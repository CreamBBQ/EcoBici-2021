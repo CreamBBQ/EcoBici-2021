{
 "cells": [
  {
   "cell_type": "code",
   "execution_count": null,
   "metadata": {},
   "outputs": [],
   "source": [
    "rm(list = ls())\n",
    "setwd(\"/home/creambbq/code/bikes/archivos\")\n",
    "library(tidyverse)\n",
    "library(sf)\n",
    "ecoBiciData <- load(\"cleanData.Rdata\")\n",
    "bairesMap <- st_read(\"http://cdn.buenosaires.gob.ar/datosabiertos/datasets/barrios/barrios.geojson\",\n",
    "                     stringsAsFactors = FALSE)\n",
    "bairesMap <- bairesMap %>% mutate(km2 = area/1000000)\n",
    "print(head(bairesMap))\n"
   ]
  }
 ],
 "metadata": {
  "interpreter": {
   "hash": "1cdc7ea095346be355c46bfb8a421a8b585db4ea4210818872fdfd6165f7ca02"
  },
  "kernelspec": {
   "display_name": "R",
   "language": "R",
   "name": "ir"
  },
  "language_info": {
   "codemirror_mode": "r",
   "file_extension": ".r",
   "mimetype": "text/x-r-source",
   "name": "R",
   "pygments_lexer": "r",
   "version": "4.1.2"
  },
  "orig_nbformat": 4
 },
 "nbformat": 4,
 "nbformat_minor": 2
}
